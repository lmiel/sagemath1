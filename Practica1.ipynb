{
 "cells": [
  {
   "cell_type": "code",
   "execution_count": 2,
   "id": "3ec92792",
   "metadata": {},
   "outputs": [
    {
     "data": {
      "text/plain": [
       "0.88"
      ]
     },
     "execution_count": 2,
     "metadata": {},
     "output_type": "execute_result"
    }
   ],
   "source": [
    "28/2^5.n(digits=1)"
   ]
  },
  {
   "cell_type": "code",
   "execution_count": 5,
   "id": "3fa9bab6",
   "metadata": {},
   "outputs": [
    {
     "data": {
      "text/plain": [
       "1.4"
      ]
     },
     "execution_count": 5,
     "metadata": {},
     "output_type": "execute_result"
    }
   ],
   "source": [
    "sqrt(2).n(digits=1)"
   ]
  },
  {
   "cell_type": "code",
   "execution_count": 6,
   "id": "37cda49e",
   "metadata": {},
   "outputs": [
    {
     "data": {
      "text/plain": [
       "51"
      ]
     },
     "execution_count": 6,
     "metadata": {},
     "output_type": "execute_result"
    }
   ],
   "source": [
    "log(2153693963075557766310747,3)"
   ]
  },
  {
   "cell_type": "code",
   "execution_count": 11,
   "id": "bed0f2af",
   "metadata": {},
   "outputs": [
    {
     "data": {
      "text/plain": [
       "2.7182818284590452353602874713526624977572470937000"
      ]
     },
     "execution_count": 11,
     "metadata": {},
     "output_type": "execute_result"
    }
   ],
   "source": [
    "n(e,digits=50)"
   ]
  },
  {
   "cell_type": "code",
   "execution_count": 12,
   "id": "f8c2505e",
   "metadata": {},
   "outputs": [
    {
     "data": {
      "text/plain": [
       "3.1415926535897932384626433832795028841971693993751058209749445923078164062862090"
      ]
     },
     "execution_count": 12,
     "metadata": {},
     "output_type": "execute_result"
    }
   ],
   "source": [
    "n(pi, digits=80)"
   ]
  },
  {
   "cell_type": "code",
   "execution_count": 13,
   "id": "dfeefed0",
   "metadata": {},
   "outputs": [
    {
     "data": {
      "text/plain": [
       "9"
      ]
     },
     "execution_count": 13,
     "metadata": {},
     "output_type": "execute_result"
    }
   ],
   "source": [
    "956//98"
   ]
  },
  {
   "cell_type": "code",
   "execution_count": 14,
   "id": "c386a833",
   "metadata": {},
   "outputs": [
    {
     "data": {
      "text/plain": [
       "4"
      ]
     },
     "execution_count": 14,
     "metadata": {},
     "output_type": "execute_result"
    }
   ],
   "source": [
    "956%8"
   ]
  },
  {
   "cell_type": "code",
   "execution_count": 16,
   "id": "b1c8dc05",
   "metadata": {},
   "outputs": [
    {
     "data": {
      "text/plain": [
       "False"
      ]
     },
     "execution_count": 16,
     "metadata": {},
     "output_type": "execute_result"
    }
   ],
   "source": [
    "234878%3==0"
   ]
  },
  {
   "cell_type": "code",
   "execution_count": 18,
   "id": "8997fccd",
   "metadata": {},
   "outputs": [
    {
     "data": {
      "text/plain": [
       "[1, 2, 67, 134]"
      ]
     },
     "execution_count": 18,
     "metadata": {},
     "output_type": "execute_result"
    }
   ],
   "source": [
    "divisors(134)"
   ]
  },
  {
   "cell_type": "code",
   "execution_count": 19,
   "id": "aa769f39",
   "metadata": {},
   "outputs": [
    {
     "data": {
      "text/plain": [
       "[1, 491]"
      ]
     },
     "execution_count": 19,
     "metadata": {},
     "output_type": "execute_result"
    }
   ],
   "source": [
    "divisors(491)"
   ]
  },
  {
   "cell_type": "code",
   "execution_count": 20,
   "id": "13bbb296",
   "metadata": {},
   "outputs": [
    {
     "data": {
      "text/plain": [
       "[1, 2, 211, 422]"
      ]
     },
     "execution_count": 20,
     "metadata": {},
     "output_type": "execute_result"
    }
   ],
   "source": [
    "divisors(422)"
   ]
  },
  {
   "cell_type": "code",
   "execution_count": 21,
   "id": "5e86e9e0",
   "metadata": {},
   "outputs": [
    {
     "data": {
      "text/plain": [
       "[1, 2, 3, 6, 167, 334, 501, 1002]"
      ]
     },
     "execution_count": 21,
     "metadata": {},
     "output_type": "execute_result"
    }
   ],
   "source": [
    "divisors(1002)"
   ]
  },
  {
   "cell_type": "code",
   "execution_count": 22,
   "id": "f1e5de92",
   "metadata": {},
   "outputs": [
    {
     "data": {
      "text/plain": [
       "False"
      ]
     },
     "execution_count": 22,
     "metadata": {},
     "output_type": "execute_result"
    }
   ],
   "source": [
    "is_prime(134)"
   ]
  },
  {
   "cell_type": "code",
   "execution_count": 26,
   "id": "203f7e36",
   "metadata": {},
   "outputs": [
    {
     "data": {
      "text/plain": [
       "True"
      ]
     },
     "execution_count": 26,
     "metadata": {},
     "output_type": "execute_result"
    }
   ],
   "source": [
    "is_prime(491)"
   ]
  },
  {
   "cell_type": "code",
   "execution_count": 24,
   "id": "a6650e2a",
   "metadata": {},
   "outputs": [
    {
     "data": {
      "text/plain": [
       "False"
      ]
     },
     "execution_count": 24,
     "metadata": {},
     "output_type": "execute_result"
    }
   ],
   "source": [
    "is_prime(422)"
   ]
  },
  {
   "cell_type": "code",
   "execution_count": 25,
   "id": "c14e01c7",
   "metadata": {},
   "outputs": [
    {
     "data": {
      "text/plain": [
       "False"
      ]
     },
     "execution_count": 25,
     "metadata": {},
     "output_type": "execute_result"
    }
   ],
   "source": [
    "is_prime(1002)"
   ]
  },
  {
   "cell_type": "code",
   "execution_count": 27,
   "id": "e04ead50",
   "metadata": {},
   "outputs": [
    {
     "data": {
      "text/plain": [
       "1"
      ]
     },
     "execution_count": 27,
     "metadata": {},
     "output_type": "execute_result"
    }
   ],
   "source": [
    "gcd(2,5)"
   ]
  },
  {
   "cell_type": "code",
   "execution_count": 28,
   "id": "8a2ce1a6",
   "metadata": {},
   "outputs": [
    {
     "data": {
      "text/plain": [
       "2"
      ]
     },
     "execution_count": 28,
     "metadata": {},
     "output_type": "execute_result"
    }
   ],
   "source": [
    "gcd(4,10)"
   ]
  },
  {
   "cell_type": "code",
   "execution_count": 29,
   "id": "700c6354",
   "metadata": {},
   "outputs": [
    {
     "data": {
      "text/plain": [
       "3"
      ]
     },
     "execution_count": 29,
     "metadata": {},
     "output_type": "execute_result"
    }
   ],
   "source": [
    "gcd(18,51)"
   ]
  },
  {
   "cell_type": "code",
   "execution_count": 30,
   "id": "a2e2ae19",
   "metadata": {},
   "outputs": [
    {
     "data": {
      "text/plain": [
       "10"
      ]
     },
     "execution_count": 30,
     "metadata": {},
     "output_type": "execute_result"
    }
   ],
   "source": [
    "lcm(2,5)"
   ]
  },
  {
   "cell_type": "code",
   "execution_count": 31,
   "id": "4fb78bb2",
   "metadata": {},
   "outputs": [
    {
     "data": {
      "text/plain": [
       "20"
      ]
     },
     "execution_count": 31,
     "metadata": {},
     "output_type": "execute_result"
    }
   ],
   "source": [
    "lcm(4,10)"
   ]
  },
  {
   "cell_type": "code",
   "execution_count": 32,
   "id": "00955fa3",
   "metadata": {},
   "outputs": [
    {
     "data": {
      "text/plain": [
       "306"
      ]
     },
     "execution_count": 32,
     "metadata": {},
     "output_type": "execute_result"
    }
   ],
   "source": [
    "lcm(18,51)"
   ]
  },
  {
   "cell_type": "code",
   "execution_count": null,
   "id": "30dd75f3",
   "metadata": {},
   "outputs": [],
   "source": []
  }
 ],
 "metadata": {
  "kernelspec": {
   "display_name": "SageMath 9.7",
   "language": "sage",
   "name": "sagemath-9.7"
  },
  "language_info": {
   "codemirror_mode": {
    "name": "ipython",
    "version": 3
   },
   "file_extension": ".py",
   "mimetype": "text/x-python",
   "name": "python",
   "nbconvert_exporter": "python",
   "pygments_lexer": "ipython3",
   "version": "3.10.5"
  }
 },
 "nbformat": 4,
 "nbformat_minor": 5
}
